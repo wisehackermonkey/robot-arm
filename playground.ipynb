{
 "metadata": {
  "language_info": {
   "codemirror_mode": {
    "name": "ipython",
    "version": 3
   },
   "file_extension": ".py",
   "mimetype": "text/x-python",
   "name": "python",
   "nbconvert_exporter": "python",
   "pygments_lexer": "ipython3",
   "version": 3
  },
  "orig_nbformat": 2
 },
 "nbformat": 4,
 "nbformat_minor": 2,
 "cells": [
  {
   "cell_type": "code",
   "execution_count": null,
   "metadata": {},
   "outputs": [],
   "source": [
    "import time\n",
    "from adafruit_servokit import ServoKit\n",
    " \n",
    "# Set channels to the number of servo channels on your kit.\n",
    "# 8 for FeatherWing, 16 for Shield/HAT/Bonnet.\n",
    "kit = ServoKit(channels=8)\n",
    "import adafruit_motor.servo\n",
    "servo = adafruit_motor.servo.Servo(servo_channel)"
   ]
  },
  {
   "cell_type": "code",
   "execution_count": null,
   "metadata": {},
   "outputs": [],
   "source": [
    "pca.frequency = 50"
   ]
  },
  {
   "cell_type": "code",
   "execution_count": null,
   "metadata": {},
   "outputs": [],
   "source": []
  }
 ]
}